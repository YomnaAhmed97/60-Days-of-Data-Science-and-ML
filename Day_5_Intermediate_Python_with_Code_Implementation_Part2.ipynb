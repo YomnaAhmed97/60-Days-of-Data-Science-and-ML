{
  "nbformat": 4,
  "nbformat_minor": 0,
  "metadata": {
    "colab": {
      "name": "Day_5_Intermediate_Python_with_Code_Implementation_Part2.ipynb",
      "provenance": [],
      "toc_visible": true,
      "authorship_tag": "ABX9TyMjYQ1JJjKCDNVUDMKeQU1l"
    },
    "kernelspec": {
      "name": "python3",
      "display_name": "Python 3"
    },
    "language_info": {
      "name": "python"
    }
  },
  "cells": [
    {
      "cell_type": "markdown",
      "source": [
        "## Lambda Functions in Python\n",
        "In python, Lambda is used to create small anonymous functions using “lambda” keyword and can be used wherever function objects are needed.It can any number of arguments but only one expression\n",
        "\n",
        "Syntax\n",
        "\n",
        "    lambda argument(s): expression\n",
        "\n",
        "*   It can be used inside another function\n",
        "*   In python normal functions re defined using the `def` keyword, anonymous functions are defined using the `lambda` keyword\n",
        "*   Wheneer we require a nameless function for a short period of time, we use lambda functions\n",
        "\n"
      ],
      "metadata": {
        "id": "Uu-KUXIsomoD"
      }
    },
    {
      "cell_type": "code",
      "source": [
        "# A lambda function that adds 10 to the number passed in as an argument, and print the result\n",
        "x = lambda a, b, c : a * b + c\n",
        "\n",
        "print(x(5, 6, 8))"
      ],
      "metadata": {
        "colab": {
          "base_uri": "https://localhost:8080/"
        },
        "id": "V1ZUUNmOomNs",
        "outputId": "57110e68-78a1-4fdd-dd76-6dd06f0ae276"
      },
      "execution_count": 1,
      "outputs": [
        {
          "output_type": "stream",
          "name": "stdout",
          "text": [
            "38\n"
          ]
        }
      ]
    },
    {
      "cell_type": "markdown",
      "source": [
        "## Map and Filter Functions in Python\n",
        "In python, Map allows you to process and transform the items of the iterables or collections without using a for loop.\n",
        "\n",
        "*   In Python, the map() function applies the given function to each item of a given iterable construct (i.e lists, tuples etc) and returns a map object\n",
        "\n",
        "    `map(function, iterable)`\n",
        "\n",
        "*   In python, filter() function returns an iterator when the items are filtered through a function to test if the item is true or not\n",
        "\n",
        "    `filter(function, iterable)`\n",
        "\n"
      ],
      "metadata": {
        "id": "p90z8RGAomli"
      }
    },
    {
      "cell_type": "code",
      "source": [
        "# map\n",
        "numbers = [1,2,3,4,5]\n",
        "strings = ['s', 't', 'x', 'y', 'z']\n",
        "mapped_list = list(map(lambda x, y: (x, y), strings, numbers))\n",
        "print(mapped_list)"
      ],
      "metadata": {
        "colab": {
          "base_uri": "https://localhost:8080/"
        },
        "id": "p-JnHh_BomK0",
        "outputId": "f10482ec-49b5-4041-db5c-756786a6b2b0"
      },
      "execution_count": 2,
      "outputs": [
        {
          "output_type": "stream",
          "name": "stdout",
          "text": [
            "[('s', 1), ('t', 2), ('x', 3), ('y', 4), ('z', 5)]\n"
          ]
        }
      ]
    },
    {
      "cell_type": "code",
      "source": [
        "# map implementation\n",
        "days = ['Sunday', 'Monday', 'Tuesday', 'Wednesday']\n",
        "mod_days = list(map(str.swapcase, days))\n",
        "print(mod_days)"
      ],
      "metadata": {
        "colab": {
          "base_uri": "https://localhost:8080/"
        },
        "id": "JqZx8UrVomIC",
        "outputId": "110ca3d3-badd-4120-86f2-889dd5e7fa7b"
      },
      "execution_count": 3,
      "outputs": [
        {
          "output_type": "stream",
          "name": "stdout",
          "text": [
            "['sUNDAY', 'mONDAY', 'tUESDAY', 'wEDNESDAY']\n"
          ]
        }
      ]
    },
    {
      "cell_type": "code",
      "execution_count": 4,
      "metadata": {
        "colab": {
          "base_uri": "https://localhost:8080/"
        },
        "id": "HJ16m85HogZ3",
        "outputId": "3a225c5d-87d0-4ee7-ab5b-250122eb3c03"
      },
      "outputs": [
        {
          "output_type": "stream",
          "name": "stdout",
          "text": [
            "[23]\n"
          ]
        }
      ],
      "source": [
        "# filter function\n",
        "marks = [95, 40, 68, 95, 67, 61, 88, 23, 38, 92]\n",
        "def stud(score):\n",
        "    return score < 33\n",
        "fail_list = list(filter(stud, marks))\n",
        "print(fail_list)"
      ]
    }
  ]
}
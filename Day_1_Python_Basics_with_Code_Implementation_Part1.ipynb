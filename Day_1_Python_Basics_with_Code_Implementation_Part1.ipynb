{
  "nbformat": 4,
  "nbformat_minor": 0,
  "metadata": {
    "colab": {
      "name": "Day 1 : Python Basics with Code Implementation-Part1.ipynb",
      "provenance": [],
      "collapsed_sections": [],
      "toc_visible": true,
      "authorship_tag": "ABX9TyMz28cQnyI6G/7XnWPvarfw"
    },
    "kernelspec": {
      "name": "python3",
      "display_name": "Python 3"
    },
    "language_info": {
      "name": "python"
    }
  },
  "cells": [
    {
      "cell_type": "markdown",
      "source": [
        "## Intro to Python\n",
        "\n",
        "Python is a high-level, most widely used multi-purpose, easy to read programming language.\n",
        "\n",
        "\n",
        "*   Interpreted - Python is processed at runtime by the interpreter. i.e. you do not need to compile your program before executing it.\n",
        "*   Interactive - You can interact with interpreter directly to write your programs\n",
        "*   Portable - It can run on wide range of hardware Platforms\n",
        "*   Object-Oriented - Python suppports Object-Oriented style and Procedural Paradigms\n",
        "*   Used as a scripting language or can be compiled to byte-code for building large applications\n",
        "*   It has simple structure, and a clearly defined syntax\n",
        "*   Known as Beginner's Language - It's great language for beginner-level programmers\n",
        "*   Source code is comparatively easy-to-maintain\n",
        "*   Provides very high-level dynamic data types and supports dynamic type checking.\n",
        "*   Has a huge collection of standard library\n",
        "\n",
        "Popular applications for Python\n",
        "\n",
        "\n",
        "*   Web Development\n",
        "*   Data Science - including machine learning, data analysis, and data visualization\n",
        "*   Scripting\n",
        "*   Game Development\n",
        "*   CAD Applications\n",
        "*   Embedded Applications\n",
        "\n"
      ],
      "metadata": {
        "id": "aGlocV5vD5Vh"
      }
    },
    {
      "cell_type": "markdown",
      "source": [
        "## Python Data Types\n",
        "Data Types represent the kind of value variable can hold and what all operations can be performed on a particular data.\n",
        "\n"
      ],
      "metadata": {
        "id": "iQMxuxxcD5S7"
      }
    },
    {
      "cell_type": "markdown",
      "source": [
        ""
      ],
      "metadata": {
        "id": "Q9o7NslgD5Qg"
      }
    },
    {
      "cell_type": "code",
      "source": [
        "# Int data type\n",
        "var = 5\n",
        "print(var)\n",
        "print(type(var))"
      ],
      "metadata": {
        "colab": {
          "base_uri": "https://localhost:8080/"
        },
        "id": "o8MGcG31D4n-",
        "outputId": "0a40c650-63c0-487d-e291-63030dd1b3e9"
      },
      "execution_count": 1,
      "outputs": [
        {
          "output_type": "stream",
          "name": "stdout",
          "text": [
            "5\n",
            "<class 'int'>\n"
          ]
        }
      ]
    },
    {
      "cell_type": "code",
      "source": [
        "# Float data type\n",
        "var2 = 0.1234\n",
        "print(var2)\n",
        "print(type(var2))"
      ],
      "metadata": {
        "colab": {
          "base_uri": "https://localhost:8080/"
        },
        "id": "DnKL7vbHO8Hj",
        "outputId": "1986a73e-4e5a-4cc3-fa85-f130874fd7de"
      },
      "execution_count": 2,
      "outputs": [
        {
          "output_type": "stream",
          "name": "stdout",
          "text": [
            "0.1234\n",
            "<class 'float'>\n"
          ]
        }
      ]
    },
    {
      "cell_type": "code",
      "source": [
        "# Complex numbers data type\n",
        "x = 2j\n",
        "print(x)\n",
        "print(type(x))"
      ],
      "metadata": {
        "colab": {
          "base_uri": "https://localhost:8080/"
        },
        "id": "oUPnwgmXO8EP",
        "outputId": "99c948f0-ecf9-480b-d6f8-c6e0289e86c6"
      },
      "execution_count": 3,
      "outputs": [
        {
          "output_type": "stream",
          "name": "stdout",
          "text": [
            "2j\n",
            "<class 'complex'>\n"
          ]
        }
      ]
    },
    {
      "cell_type": "code",
      "source": [
        "# String Data type\n",
        "str_one = \"Hello World\"\n",
        "print(str_one)\n",
        "print(type(str_one))"
      ],
      "metadata": {
        "colab": {
          "base_uri": "https://localhost:8080/"
        },
        "id": "-sCRtktIO8B3",
        "outputId": "0aff5352-5438-4f96-b62e-335a51ce2170"
      },
      "execution_count": 4,
      "outputs": [
        {
          "output_type": "stream",
          "name": "stdout",
          "text": [
            "Hello World\n",
            "<class 'str'>\n"
          ]
        }
      ]
    },
    {
      "cell_type": "code",
      "source": [
        "# list data type\n",
        "list1 = [\"cat\", \"bike\"]\n",
        "print(list1)\n",
        "print(type(list1))"
      ],
      "metadata": {
        "colab": {
          "base_uri": "https://localhost:8080/"
        },
        "id": "Wt2T1NgkQY0S",
        "outputId": "40e765fc-149b-469a-e2b0-d8af12bcb816"
      },
      "execution_count": 5,
      "outputs": [
        {
          "output_type": "stream",
          "name": "stdout",
          "text": [
            "['cat', 'bike']\n",
            "<class 'list'>\n"
          ]
        }
      ]
    },
    {
      "cell_type": "code",
      "source": [
        "# tuple data type\n",
        "tup = (\"cat\", \"bike\", \"bus\")\n",
        "print(tup)\n",
        "print(type(tup))"
      ],
      "metadata": {
        "colab": {
          "base_uri": "https://localhost:8080/"
        },
        "id": "D0BWy1LyQYx3",
        "outputId": "a9911556-f392-434c-a195-293cf2334ba9"
      },
      "execution_count": 6,
      "outputs": [
        {
          "output_type": "stream",
          "name": "stdout",
          "text": [
            "('cat', 'bike', 'bus')\n",
            "<class 'tuple'>\n"
          ]
        }
      ]
    },
    {
      "cell_type": "code",
      "source": [
        "# dictionary data type\n",
        "dict_one = {\"Name\": \"Steve\", \"Location\": \"NewYork\"}\n",
        "print(dict_one)\n",
        "print(type(dict_one))"
      ],
      "metadata": {
        "colab": {
          "base_uri": "https://localhost:8080/"
        },
        "id": "jyKhnTHwQYvX",
        "outputId": "c4ed6976-d3df-46bf-e85f-9212a772750f"
      },
      "execution_count": 7,
      "outputs": [
        {
          "output_type": "stream",
          "name": "stdout",
          "text": [
            "{'Name': 'Steve', 'Location': 'NewYork'}\n",
            "<class 'dict'>\n"
          ]
        }
      ]
    },
    {
      "cell_type": "code",
      "source": [
        "# Set data type\n",
        "set_one = set({\"Hello\", \"world\", \"Hello\"})\n",
        "print(set_one)\n",
        "print(type(set_one))"
      ],
      "metadata": {
        "colab": {
          "base_uri": "https://localhost:8080/"
        },
        "id": "w1ouiQNVS3Ye",
        "outputId": "a69fdc5d-617b-40ef-ddfd-f41715eaf859"
      },
      "execution_count": 8,
      "outputs": [
        {
          "output_type": "stream",
          "name": "stdout",
          "text": [
            "{'world', 'Hello'}\n",
            "<class 'set'>\n"
          ]
        }
      ]
    },
    {
      "cell_type": "code",
      "source": [
        "# Frozen set\n",
        "f_one = frozenset({\"Hello\", \"World\", \"Hello\"})\n",
        "print(f_one)\n",
        "print(type(f_one))"
      ],
      "metadata": {
        "colab": {
          "base_uri": "https://localhost:8080/"
        },
        "id": "z5uDiIQ4T49k",
        "outputId": "60a3c704-4194-4820-fa55-3404fd931e0d"
      },
      "execution_count": 9,
      "outputs": [
        {
          "output_type": "stream",
          "name": "stdout",
          "text": [
            "frozenset({'World', 'Hello'})\n",
            "<class 'frozenset'>\n"
          ]
        }
      ]
    },
    {
      "cell_type": "code",
      "source": [
        "# Boolean data type\n",
        "b = True\n",
        "print(b)\n",
        "print(type(b))"
      ],
      "metadata": {
        "colab": {
          "base_uri": "https://localhost:8080/"
        },
        "id": "8GApbL0VT47N",
        "outputId": "5bf0c259-1136-4ad6-e11a-e221864fac3e"
      },
      "execution_count": 10,
      "outputs": [
        {
          "output_type": "stream",
          "name": "stdout",
          "text": [
            "True\n",
            "<class 'bool'>\n"
          ]
        }
      ]
    },
    {
      "cell_type": "code",
      "source": [
        "# Byte data type\n",
        "byte_one = b\"World\"\n",
        "print(byte_one)\n",
        "print(type(byte_one))"
      ],
      "metadata": {
        "colab": {
          "base_uri": "https://localhost:8080/"
        },
        "id": "NexryZhMT44_",
        "outputId": "4498762b-0eb0-406e-f512-875dd4da88a0"
      },
      "execution_count": 11,
      "outputs": [
        {
          "output_type": "stream",
          "name": "stdout",
          "text": [
            "b'World'\n",
            "<class 'bytes'>\n"
          ]
        }
      ]
    },
    {
      "cell_type": "code",
      "source": [
        ""
      ],
      "metadata": {
        "id": "63no6PvwT42j"
      },
      "execution_count": null,
      "outputs": []
    },
    {
      "cell_type": "markdown",
      "source": [
        ""
      ],
      "metadata": {
        "id": "Ckj1T9GsD5OG"
      }
    },
    {
      "cell_type": "markdown",
      "source": [
        ""
      ],
      "metadata": {
        "id": "ygjqR-ykD5Lp"
      }
    },
    {
      "cell_type": "markdown",
      "source": [
        ""
      ],
      "metadata": {
        "id": "VC1OYmR2D5JB"
      }
    },
    {
      "cell_type": "markdown",
      "source": [
        ""
      ],
      "metadata": {
        "id": "u7HQh102D5Gn"
      }
    },
    {
      "cell_type": "code",
      "source": [
        ""
      ],
      "metadata": {
        "id": "ULC7wBiwD4lT"
      },
      "execution_count": null,
      "outputs": []
    },
    {
      "cell_type": "code",
      "source": [
        ""
      ],
      "metadata": {
        "id": "RqUJFcOPD4im"
      },
      "execution_count": null,
      "outputs": []
    },
    {
      "cell_type": "code",
      "source": [
        ""
      ],
      "metadata": {
        "id": "tjbAgk6lD4gH"
      },
      "execution_count": null,
      "outputs": []
    },
    {
      "cell_type": "code",
      "source": [
        ""
      ],
      "metadata": {
        "id": "A2J82YT4D4dn"
      },
      "execution_count": null,
      "outputs": []
    },
    {
      "cell_type": "code",
      "source": [
        ""
      ],
      "metadata": {
        "id": "hwsMPZ_gD4bH"
      },
      "execution_count": null,
      "outputs": []
    },
    {
      "cell_type": "code",
      "source": [
        ""
      ],
      "metadata": {
        "id": "7WtMg3neD4Ye"
      },
      "execution_count": null,
      "outputs": []
    },
    {
      "cell_type": "code",
      "execution_count": null,
      "metadata": {
        "id": "4oy4ohqRDqan"
      },
      "outputs": [],
      "source": [
        ""
      ]
    }
  ]
}
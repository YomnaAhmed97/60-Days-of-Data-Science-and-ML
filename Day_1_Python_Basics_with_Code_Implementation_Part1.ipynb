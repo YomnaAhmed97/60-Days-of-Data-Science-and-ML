{
  "nbformat": 4,
  "nbformat_minor": 0,
  "metadata": {
    "colab": {
      "name": "Day 1 : Python Basics with Code Implementation-Part1.ipynb",
      "provenance": [],
      "toc_visible": true,
      "authorship_tag": "ABX9TyNHxsbm75A65ptN2FbnLOmt"
    },
    "kernelspec": {
      "name": "python3",
      "display_name": "Python 3"
    },
    "language_info": {
      "name": "python"
    }
  },
  "cells": [
    {
      "cell_type": "markdown",
      "source": [
        "## Intro to Python\n",
        "\n",
        "Python is a high-level, most widely used multi-purpose, easy to read programming language.\n",
        "\n",
        "\n",
        "*   Interpreted - Python is processed at runtime by the interpreter. i.e. you do not need to compile your program before executing it.\n",
        "*   Interactive - You can interact with interpreter directly to write your programs\n",
        "*   Portable - It can run on wide range of hardware Platforms\n",
        "*   Object-Oriented - Python suppports Object-Oriented style and Procedural Paradigms\n",
        "*   Used as a scripting language or can be compiled to byte-code for building large applications\n",
        "*   It has simple structure, and a clearly defined syntax\n",
        "*   Known as Beginner's Language - It's great language for beginner-level programmers\n",
        "*   Source code is comparatively easy-to-maintain\n",
        "*   Provides very high-level dynamic data types and supports dynamic type checking.\n",
        "*   Has a huge collection of standard library\n",
        "\n",
        "Popular applications for Python\n",
        "\n",
        "\n",
        "*   Web Development\n",
        "*   Data Science - including machine learning, data analysis, and data visualization\n",
        "*   Scripting\n",
        "*   Game Development\n",
        "*   CAD Applications\n",
        "*   Embedded Applications\n",
        "\n"
      ],
      "metadata": {
        "id": "aGlocV5vD5Vh"
      }
    },
    {
      "cell_type": "markdown",
      "source": [
        "## Python Data Types\n",
        "Data Types represent the kind of value variable can hold and what all operations can be performed on a particular data.\n",
        "\n"
      ],
      "metadata": {
        "id": "iQMxuxxcD5S7"
      }
    },
    {
      "cell_type": "markdown",
      "source": [
        ""
      ],
      "metadata": {
        "id": "Q9o7NslgD5Qg"
      }
    },
    {
      "cell_type": "code",
      "source": [
        ""
      ],
      "metadata": {
        "id": "o8MGcG31D4n-"
      },
      "execution_count": null,
      "outputs": []
    },
    {
      "cell_type": "markdown",
      "source": [
        ""
      ],
      "metadata": {
        "id": "Ckj1T9GsD5OG"
      }
    },
    {
      "cell_type": "markdown",
      "source": [
        ""
      ],
      "metadata": {
        "id": "ygjqR-ykD5Lp"
      }
    },
    {
      "cell_type": "markdown",
      "source": [
        ""
      ],
      "metadata": {
        "id": "VC1OYmR2D5JB"
      }
    },
    {
      "cell_type": "markdown",
      "source": [
        ""
      ],
      "metadata": {
        "id": "u7HQh102D5Gn"
      }
    },
    {
      "cell_type": "code",
      "source": [
        ""
      ],
      "metadata": {
        "id": "ULC7wBiwD4lT"
      },
      "execution_count": null,
      "outputs": []
    },
    {
      "cell_type": "code",
      "source": [
        ""
      ],
      "metadata": {
        "id": "RqUJFcOPD4im"
      },
      "execution_count": null,
      "outputs": []
    },
    {
      "cell_type": "code",
      "source": [
        ""
      ],
      "metadata": {
        "id": "tjbAgk6lD4gH"
      },
      "execution_count": null,
      "outputs": []
    },
    {
      "cell_type": "code",
      "source": [
        ""
      ],
      "metadata": {
        "id": "A2J82YT4D4dn"
      },
      "execution_count": null,
      "outputs": []
    },
    {
      "cell_type": "code",
      "source": [
        ""
      ],
      "metadata": {
        "id": "hwsMPZ_gD4bH"
      },
      "execution_count": null,
      "outputs": []
    },
    {
      "cell_type": "code",
      "source": [
        ""
      ],
      "metadata": {
        "id": "7WtMg3neD4Ye"
      },
      "execution_count": null,
      "outputs": []
    },
    {
      "cell_type": "code",
      "execution_count": null,
      "metadata": {
        "id": "4oy4ohqRDqan"
      },
      "outputs": [],
      "source": [
        ""
      ]
    }
  ]
}
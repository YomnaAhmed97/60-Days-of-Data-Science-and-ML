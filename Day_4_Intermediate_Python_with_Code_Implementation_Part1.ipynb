{
  "nbformat": 4,
  "nbformat_minor": 0,
  "metadata": {
    "colab": {
      "name": "Day_4_Intermediate_Python_with_Code_Implementation_Part1.ipynb",
      "provenance": [],
      "toc_visible": true,
      "authorship_tag": "ABX9TyMmdG2NoIG7anlSHc4XQFDF"
    },
    "kernelspec": {
      "name": "python3",
      "display_name": "Python 3"
    },
    "language_info": {
      "name": "python"
    }
  },
  "cells": [
    {
      "cell_type": "markdown",
      "source": [
        "## Introductoin to Functions in Python\n",
        "In python, functions are a convenient way to divide your cod into useful blocks, allowing us to order our code, make it more readable, reuse it, define interfaces and save a lot of time\n",
        "\n",
        "*   A function can be called multiple times to provide modularity and reusability to the python program\n",
        "*   We can easily track a large python program easily when it is divided into multiple functions\n",
        "*   There are mainly two types of functions\n",
        "\n",
        "    User-define functions - Defined by the user to perform the specific task\n",
        "\n",
        "    Built-in functions - Functions which are pre-defined\n",
        "*   You can define the function using the *def* keyword\n",
        "*   Arguments is the information that’s passed into the function\n",
        "*   The return statement is used to return the value. A function can have only one return\n",
        "*   Once created, we can call the function using the function name followed by the parentheses\n"
      ],
      "metadata": {
        "id": "Z2R3pbhkO-Wj"
      }
    },
    {
      "cell_type": "markdown",
      "source": [
        "## Private Variables in Python\n",
        "In python, a variable is a named location used to store or hold the value/data in the memory.\n",
        "\n",
        "*   When we create a variable inside a function, it is local by default\n",
        "*   We create *private* variables by using underscore _ before a named prefix\n",
        "*   This is quite helpful for letting subclasses override methods without breaking intraclass method calls\n",
        "*   __name__ is a special built-in variable which points to the name of the current module"
      ],
      "metadata": {
        "id": "L8LKZk4cO96r"
      }
    },
    {
      "cell_type": "code",
      "source": [
        "# Private Variable \n",
        "\n",
        "# Single underscore (_)\n",
        "class test:\n",
        "    def __init__(self,num):\n",
        "        self._num= num\n",
        "\n",
        "# _privatemethod private method\n",
        "    def _numfunc(self):\n",
        "        print(\"Hello\")\n",
        "obj=test(156)\n",
        "\n",
        "# _attributes can be accessed as normal variables\n",
        "obj._numfunc()"
      ],
      "metadata": {
        "colab": {
          "base_uri": "https://localhost:8080/"
        },
        "id": "6f_2p7i2RB5y",
        "outputId": "f6959874-fe9e-4e1b-a39c-8d5b2234ee38"
      },
      "execution_count": 1,
      "outputs": [
        {
          "output_type": "stream",
          "name": "stdout",
          "text": [
            "Hello\n"
          ]
        }
      ]
    },
    {
      "cell_type": "code",
      "source": [
        "# Private Variable \n",
        "# Double Underscore (__)\n",
        "class test:\n",
        "    def __init__(self, num):\n",
        "        self.__num= num\n",
        "    def Print(self):\n",
        "        print(\"__num = {}\".format(self.__num))\n",
        "obj=test(156)"
      ],
      "metadata": {
        "id": "xmb2OXCTRSVM"
      },
      "execution_count": 4,
      "outputs": []
    },
    {
      "cell_type": "code",
      "source": [
        "# Private Variable \n",
        "# Trailing underscore(n_)\n",
        "class Test:\n",
        "    def __init__(self, name):\n",
        "        #To avoid clash with python keyword \n",
        "        self.num_= num"
      ],
      "metadata": {
        "id": "NDx_gJNERSSb"
      },
      "execution_count": 3,
      "outputs": []
    },
    {
      "cell_type": "markdown",
      "source": [
        "## Global and Non Local Variables in Python\n",
        "When we create a variable inside a function, it is local by default. WHen we define a variable outside of a function, it's global by default\n",
        "\n",
        "*   Nonlocal variables are used in nested functions whose local scope isn't defined\n",
        "*   Global variables are those variables which are defined and declared outside a function and we can use them inside the function or we can use **global** keyword to make a variable global inside a function\n",
        "\n"
      ],
      "metadata": {
        "id": "Q3PurDLEO9w8"
      }
    },
    {
      "cell_type": "code",
      "source": [
        "# Local Variable\n",
        "def test():\n",
        "    l = \"local_variable\"\n",
        "    return l\n",
        "    \n",
        "var=test()\n",
        "print(var)"
      ],
      "metadata": {
        "colab": {
          "base_uri": "https://localhost:8080/"
        },
        "id": "gzposkumTcNz",
        "outputId": "add28d2b-9d56-42ad-de7e-395be5e97874"
      },
      "execution_count": 5,
      "outputs": [
        {
          "output_type": "stream",
          "name": "stdout",
          "text": [
            "local_variable\n"
          ]
        }
      ]
    },
    {
      "cell_type": "code",
      "source": [
        "# Global Variable\n",
        "var = 10\n",
        "def test():\n",
        "    var = 20\n",
        "    print(\"local variable x:\", var)\n",
        "\n",
        "val=test()\n",
        "print(\"global variable x:\", var)"
      ],
      "metadata": {
        "colab": {
          "base_uri": "https://localhost:8080/"
        },
        "id": "maLoCxxrTcfL",
        "outputId": "003bcf0b-02ff-485a-9f39-5fc1c68109a2"
      },
      "execution_count": 11,
      "outputs": [
        {
          "output_type": "stream",
          "name": "stdout",
          "text": [
            "local variable x: 20\n",
            "global variable x: 10\n"
          ]
        }
      ]
    },
    {
      "cell_type": "markdown",
      "source": [
        "## First Class functions in Python\n",
        "In Python, a function in Python is First Class Function, if it supports all of the properties of a First Class object such as"
      ],
      "metadata": {
        "id": "MN-_aPcjUdTW"
      }
    },
    {
      "cell_type": "code",
      "source": [
        "# Implementation 2\n",
        "def outer(a):   # Outer function\n",
        "\n",
        "def inner(b):   # Inner function\n",
        "        return b+10\n",
        "    return inner(a)\n",
        "\n",
        "a = 10\n",
        "var = outer(a) \n",
        "print(var)"
      ],
      "metadata": {
        "id": "nVYRBb0hVCn0"
      },
      "execution_count": null,
      "outputs": []
    }
  ]
}
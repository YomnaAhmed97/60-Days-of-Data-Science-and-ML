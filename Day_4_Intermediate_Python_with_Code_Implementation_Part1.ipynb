{
  "nbformat": 4,
  "nbformat_minor": 0,
  "metadata": {
    "colab": {
      "name": "Day_4_Intermediate_Python_with_Code_Implementation_Part1.ipynb",
      "provenance": [],
      "toc_visible": true,
      "authorship_tag": "ABX9TyMbQwOxOUd9DK5nfKB7Pgzf"
    },
    "kernelspec": {
      "name": "python3",
      "display_name": "Python 3"
    },
    "language_info": {
      "name": "python"
    }
  },
  "cells": [
    {
      "cell_type": "markdown",
      "source": [
        "## Introductoin to Functions in Python\n",
        "In python, functions are a convenient way to divide your cod into useful blocks, allowing us to order our code, make it more readable, reuse it, define interfaces and save a lot of time\n",
        "\n",
        "*   A function can be called multiple times to provide modularity and reusability to the python program\n",
        "*   We can easily track a large python program easily when it is divided into multiple functions\n",
        "*   There are mainly two types of functions\n",
        "\n",
        "    User-define functions - Defined by the user to perform the specific task\n",
        "\n",
        "    Built-in functions - Functions which are pre-defined\n",
        "*   You can define the function using the *def* keyword\n",
        "*   Arguments is the information that’s passed into the function\n",
        "*   The return statement is used to return the value. A function can have only one return\n",
        "*   Once created, we can call the function using the function name followed by the parentheses\n"
      ],
      "metadata": {
        "id": "Z2R3pbhkO-Wj"
      }
    },
    {
      "cell_type": "markdown",
      "source": [
        "## Private Variables in Python\n",
        "In python, a variable is a named location used to store or hold the value/data in the memory.\n",
        "\n",
        "*   When we create a variable inside a function, it is local by default\n",
        "*   We create *private* variables by using underscore _ before a named prefix\n",
        "*   This is quite helpful for letting subclasses override methods without breaking intraclass method calls\n",
        "*   __name__ is a special built-in variable which points to the name of the current module"
      ],
      "metadata": {
        "id": "L8LKZk4cO96r"
      }
    },
    {
      "cell_type": "code",
      "source": [
        "# Private Variable \n",
        "\n",
        "# Single underscore (_)\n",
        "class test:\n",
        "    def __init__(self,num):\n",
        "        self._num= num\n",
        "\n",
        "# _privatemethod private method\n",
        "    def _numfunc(self):\n",
        "        print(\"Hello\")\n",
        "obj=test(156)\n",
        "\n",
        "# _attributes can be accessed as normal variables\n",
        "obj._numfunc()"
      ],
      "metadata": {
        "colab": {
          "base_uri": "https://localhost:8080/"
        },
        "id": "6f_2p7i2RB5y",
        "outputId": "f6959874-fe9e-4e1b-a39c-8d5b2234ee38"
      },
      "execution_count": 1,
      "outputs": [
        {
          "output_type": "stream",
          "name": "stdout",
          "text": [
            "Hello\n"
          ]
        }
      ]
    },
    {
      "cell_type": "code",
      "source": [
        "# Private Variable \n",
        "# Double Underscore (__)\n",
        "class test:\n",
        "    def __init__(self, num):\n",
        "        self.__num= num\n",
        "    def Print(self):\n",
        "        print(\"__num = {}\".format(self.__num))\n",
        "obj=test(156)"
      ],
      "metadata": {
        "id": "xmb2OXCTRSVM"
      },
      "execution_count": 4,
      "outputs": []
    },
    {
      "cell_type": "code",
      "source": [
        "# Private Variable \n",
        "# Trailing underscore(n_)\n",
        "class Test:\n",
        "    def __init__(self, name):\n",
        "        #To avoid clash with python keyword \n",
        "        self.num_= num"
      ],
      "metadata": {
        "id": "NDx_gJNERSSb"
      },
      "execution_count": 3,
      "outputs": []
    },
    {
      "cell_type": "markdown",
      "source": [
        "Global and Non Local Variables in Python"
      ],
      "metadata": {
        "id": "Q3PurDLEO9w8"
      }
    }
  ]
}